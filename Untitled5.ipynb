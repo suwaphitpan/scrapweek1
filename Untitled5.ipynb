{
  "nbformat": 4,
  "nbformat_minor": 0,
  "metadata": {
    "colab": {
      "provenance": []
    },
    "kernelspec": {
      "name": "python3",
      "display_name": "Python 3"
    },
    "language_info": {
      "name": "python"
    }
  },
  "cells": [
    {
      "cell_type": "code",
      "execution_count": null,
      "metadata": {
        "id": "FLHoB35ZkhsL"
      },
      "outputs": [],
      "source": [
        "from bs4 import BeautifulSoup\n",
        "from csv import writer\n",
        "import pandas as pd\n",
        "import requests\n",
        "import re"
      ]
    },
    {
      "cell_type": "code",
      "source": [
        "url = 'https://infocenter.git.or.th/infographic/marketing?page=1'\n",
        "page = requests.get(url)"
      ],
      "metadata": {
        "id": "RNecRRY8knAC"
      },
      "execution_count": null,
      "outputs": []
    },
    {
      "cell_type": "code",
      "source": [
        "soup = BeautifulSoup(page.content, 'html.parser')"
      ],
      "metadata": {
        "id": "ko6ZLNlhkosL"
      },
      "execution_count": null,
      "outputs": []
    },
    {
      "cell_type": "code",
      "source": [
        "results = soup.find_all('div', class_='col-md-8 col-lg-9')\n",
        "names = []\n",
        "description = []"
      ],
      "metadata": {
        "id": "Lj94PCJfzuRJ"
      },
      "execution_count": null,
      "outputs": []
    },
    {
      "cell_type": "code",
      "source": [
        "for result in results:\n",
        "    Names = result.find('a', class_=\"text-dark\").get_text(strip=True)\n",
        "    Names.append(names)\n",
        "    Description = result.find('p', class_=\"text-light d-none d-md-block\").get_text(strip=True)\n",
        "    Description.append(description)"
      ],
      "metadata": {
        "id": "Hl4Ao8VEzxBS"
      },
      "execution_count": null,
      "outputs": []
    },
    {
      "cell_type": "code",
      "source": [
        "table = pd.DataFrame({' Names' : names, ' Description' : description})"
      ],
      "metadata": {
        "id": "wLaTzwCAkuTp"
      },
      "execution_count": null,
      "outputs": []
    },
    {
      "cell_type": "code",
      "source": [
        "table.to_csv('marketing.csv')"
      ],
      "metadata": {
        "id": "p3nVF4dEkv7_"
      },
      "execution_count": null,
      "outputs": []
    }
  ]
}